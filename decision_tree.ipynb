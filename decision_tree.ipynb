{
 "cells": [
  {
   "cell_type": "code",
   "execution_count": 610,
   "metadata": {},
   "outputs": [],
   "source": [
    "import pandas as pd\n",
    "import numpy as np\n",
    "from sklearn.model_selection import train_test_split\n",
    "from sklearn.metrics import accuracy_score"
   ]
  },
  {
   "attachments": {},
   "cell_type": "markdown",
   "metadata": {},
   "source": [
    "### Decision Tree"
   ]
  },
  {
   "cell_type": "code",
   "execution_count": 611,
   "metadata": {},
   "outputs": [],
   "source": [
    "class node:\n",
    "  def __init__(self, attribute: str = None, leaf: bool = False, value: str = None):\n",
    "    self.attribute = attribute\n",
    "    self.edges = {}\n",
    "    self.leaf = leaf\n",
    "    self.value = value\n",
    "\n",
    "  def find_leaf(self, row: dict):\n",
    "    if self.value:\n",
    "      return self.value\n",
    "    elif self.leaf:\n",
    "      return self.edges[row[self.attribute]]\n",
    "    else:\n",
    "      return self.edges[row[self.attribute]].find_leaf(row)\n",
    "    \n",
    "  def add_edge(self, attribute_value: str, node):\n",
    "    self.edges[attribute_value] = node\n",
    "    return self.edges[attribute_value]\n",
    "\n",
    "  def find_node(self, attribute_value: str):\n",
    "    return self.edges[attribute_value]\n",
    "\n",
    "  def set_attribute(self, attribute: str):\n",
    "    self.attribute = attribute\n",
    "\n",
    "  def set_value(self, value: str):\n",
    "    self.value = value"
   ]
  },
  {
   "cell_type": "code",
   "execution_count": 612,
   "metadata": {},
   "outputs": [],
   "source": [
    "class decision_tree:\n",
    "  def __init__(self, dataset: pd.DataFrame, target_col: str):\n",
    "    self.dataset = dataset\n",
    "    self.target_col = target_col\n",
    "    self.columns = dataset.columns.drop(target_col)\n",
    "    self.tree = None\n",
    "  \n",
    "  def entropy(self, df: pd.DataFrame) -> float:\n",
    "    \"\"\"\n",
    "    Calculate the entropy of a given attribute.\n",
    "\n",
    "    @param df: Dataset containing only the attribute class for which we will calculate the entropy.\n",
    "    \"\"\"\n",
    "\n",
    "    entropy = 0\n",
    "\n",
    "    for target_class in df[self.target_col].unique():\n",
    "      # Calculate the probability of each class\n",
    "      prob = df[self.target_col].value_counts()[target_class] / len(df)\n",
    "\n",
    "      # Calculate the entropy\n",
    "      entropy -= prob * np.log2(prob)\n",
    "\n",
    "    return entropy\n",
    "  \n",
    "  def information_gain(self, df: pd.DataFrame, attribute: str) -> float:\n",
    "    \"\"\"\n",
    "    Calculate the information gain of a given attribute.\n",
    "\n",
    "    @param df: Dataset containing only the attribute for which we will calculate the information gain.\n",
    "    @param attribute: The attribute to calculate the information gain for.\n",
    "    \"\"\"\n",
    "\n",
    "    # Calculate the entropy of the dataset\n",
    "    entropy_dataset = 0\n",
    "\n",
    "    for target_class in df[self.target_col].unique():\n",
    "      # Calculate the probability of each class\n",
    "      prob = df[df[self.target_col] == target_class][self.target_col].count() / len(df)\n",
    "\n",
    "      # Calculate the entropy\n",
    "      entropy_dataset -= prob * np.log2(prob)\n",
    "\n",
    "    # Calculate the entropy of the attribute\n",
    "    entropy_attribute = 0\n",
    "\n",
    "    for attribute_value in df[attribute].unique():\n",
    "      # Calculate the probability of each attribute value\n",
    "      prob = df[attribute].value_counts()[attribute_value] / len(df)\n",
    "\n",
    "      # Calculate the entropy of the attribute\n",
    "      entropy_attribute -= prob * self.entropy(df[df[attribute] == attribute_value]) \n",
    "\n",
    "    return entropy_dataset + entropy_attribute\n",
    "\n",
    "  def most_informative(self, df: pd.DataFrame) -> str:\n",
    "    \"\"\"\n",
    "    Return the most informative attribute in a given dataset.\n",
    "\n",
    "    @param df: Dataset containing the attributes for which we will calculate the information gain.\n",
    "    \"\"\"\n",
    "\n",
    "    columns = df.columns.drop(self.target_col)\n",
    "    information_gains = {}\n",
    "\n",
    "    for attribute in columns:\n",
    "      information_gains[attribute] = self.information_gain(df, attribute)\n",
    "\n",
    "    return max(information_gains, key=information_gains.get)\n",
    "  \n",
    "  def is_pure(self, df: pd.DataFrame):\n",
    "    \"\"\"\n",
    "    Check if a given attribute is pure.\n",
    "\n",
    "    @param attribute: The attribute to check.\n",
    "    \"\"\"\n",
    "    return len(df[self.target_col].unique()) == 1\n",
    "  \n",
    "  def build_tree(self, df: pd.DataFrame, current_node: node):\n",
    "    \"\"\"\n",
    "    Build the decision tree. This is a recursive function.\n",
    "\n",
    "    @param df: The dataset to build the tree on. On every iteration, the dataset will be reduced using the most informative attribute.\n",
    "    @param current_node: The current node in the tree. On every iteration, a new node will be added to the tree. If no node is given, a new tree will be created.\n",
    "    \"\"\"\n",
    "    # Check if there are no more attributes to split on\n",
    "    if len(df.columns) == 1:\n",
    "      return\n",
    "    \n",
    "    # Get the most informative attribute\n",
    "    most_informative = self.most_informative(df)\n",
    "\n",
    "    if not current_node:\n",
    "      # Create a new node\n",
    "      self.tree = node(attribute=most_informative)\n",
    "      current_node = self.tree\n",
    "    else:\n",
    "      current_node.set_attribute(most_informative)\n",
    "\n",
    "    for edge in df[most_informative].unique():\n",
    "      # Check if the attribute is pure\n",
    "      if self.is_pure(df[df[most_informative] == edge]):\n",
    "        # Add a leaf node\n",
    "        current_node.add_edge(edge, node(leaf=True, value=df[df[most_informative] == edge][self.target_col].iloc[0]))\n",
    "      else:\n",
    "        new_node = current_node.add_edge(edge, node())\n",
    "        new_df = df[df[most_informative] == edge].drop(most_informative, axis=1)\n",
    "        if len(new_df.columns) == 1:\n",
    "          new_node.set_value(new_df[self.target_col].iloc[0])\n",
    "        else:\n",
    "          self.build_tree(new_df, new_node)\n",
    "\n",
    "\n",
    "  def fit(self):\n",
    "    \"\"\"\n",
    "    Fit the decision tree to the dataset.\n",
    "    \"\"\"\n",
    "\n",
    "    df = self.dataset.copy()\n",
    "\n",
    "    self.build_tree(df, current_node=None)\n",
    "\n",
    "  def predict(self, df: pd.DataFrame):\n",
    "    \"\"\"\n",
    "    Predict the target class of a given dataset.\n",
    "\n",
    "    @param df: The dataset to predict the target class for.\n",
    "    \"\"\"\n",
    "    dataset = df.to_dict('records')\n",
    "\n",
    "    result = []\n",
    "\n",
    "    for row in dataset:\n",
    "      result.append(self.tree.find_leaf(row))\n",
    "\n",
    "    return result"
   ]
  },
  {
   "attachments": {},
   "cell_type": "markdown",
   "metadata": {},
   "source": [
    "### Exploratory Data Analysis"
   ]
  },
  {
   "cell_type": "code",
   "execution_count": 613,
   "metadata": {},
   "outputs": [],
   "source": [
    "# Importing dataset\n",
    "df = pd.read_csv('dataset/cars_india.csv')"
   ]
  },
  {
   "cell_type": "code",
   "execution_count": 614,
   "metadata": {},
   "outputs": [
    {
     "data": {
      "text/plain": [
       "<AxesSubplot: >"
      ]
     },
     "execution_count": 614,
     "metadata": {},
     "output_type": "execute_result"
    },
    {
     "data": {
      "image/png": "[encoded data removed]",
      "text/plain": [
       "<Figure size 640x480 with 1 Axes>"
      ]
     },
     "metadata": {},
     "output_type": "display_data"
    }
   ],
   "source": [
    "df[\"NCAP Rating\"].hist()"
   ]
  },
  {
   "cell_type": "code",
   "execution_count": 615,
   "metadata": {},
   "outputs": [
    {
     "data": {
      "text/html": [
       "<div>\n",
       "<style scoped>\n",
       "    .dataframe tbody tr th:only-of-type {\n",
       "        vertical-align: middle;\n",
       "    }\n",
       "\n",
       "    .dataframe tbody tr th {\n",
       "        vertical-align: top;\n",
       "    }\n",
       "\n",
       "    .dataframe thead th {\n",
       "        text-align: right;\n",
       "    }\n",
       "</style>\n",
       "<table border=\"1\" class=\"dataframe\">\n",
       "  <thead>\n",
       "    <tr style=\"text-align: right;\">\n",
       "      <th></th>\n",
       "      <th>Model</th>\n",
       "      <th>Maker</th>\n",
       "      <th>Type</th>\n",
       "      <th>Seats</th>\n",
       "      <th>Displacement</th>\n",
       "      <th>Length</th>\n",
       "      <th>Width</th>\n",
       "      <th>Height</th>\n",
       "      <th>Wheelbase</th>\n",
       "      <th>No_of_Cylinders</th>\n",
       "      <th>...</th>\n",
       "      <th>Rear Brake</th>\n",
       "      <th>Drive</th>\n",
       "      <th>Turning Radius</th>\n",
       "      <th>Fuel Tank Capacity</th>\n",
       "      <th>Boot Space</th>\n",
       "      <th>Fuel Efficiency</th>\n",
       "      <th>Emission Type</th>\n",
       "      <th>Tyre Size</th>\n",
       "      <th>Variants</th>\n",
       "      <th>NCAP Rating</th>\n",
       "    </tr>\n",
       "  </thead>\n",
       "  <tbody>\n",
       "    <tr>\n",
       "      <th>0</th>\n",
       "      <td>Virtus</td>\n",
       "      <td>Volkswagen</td>\n",
       "      <td>Sedan</td>\n",
       "      <td>5</td>\n",
       "      <td>999.0</td>\n",
       "      <td>4561</td>\n",
       "      <td>1752</td>\n",
       "      <td>1507</td>\n",
       "      <td>2651</td>\n",
       "      <td>3.0</td>\n",
       "      <td>...</td>\n",
       "      <td>Drum</td>\n",
       "      <td>2WD</td>\n",
       "      <td>5.05</td>\n",
       "      <td>45.0</td>\n",
       "      <td>521.0</td>\n",
       "      <td>19.40</td>\n",
       "      <td>BS VI</td>\n",
       "      <td>205/55 R16</td>\n",
       "      <td>3</td>\n",
       "      <td>Not Tested</td>\n",
       "    </tr>\n",
       "    <tr>\n",
       "      <th>1</th>\n",
       "      <td>Virtus</td>\n",
       "      <td>Volkswagen</td>\n",
       "      <td>Sedan</td>\n",
       "      <td>5</td>\n",
       "      <td>999.0</td>\n",
       "      <td>4561</td>\n",
       "      <td>1752</td>\n",
       "      <td>1507</td>\n",
       "      <td>2651</td>\n",
       "      <td>3.0</td>\n",
       "      <td>...</td>\n",
       "      <td>Drum</td>\n",
       "      <td>2WD</td>\n",
       "      <td>5.05</td>\n",
       "      <td>45.0</td>\n",
       "      <td>521.0</td>\n",
       "      <td>18.12</td>\n",
       "      <td>BS VI</td>\n",
       "      <td>205/55 R16</td>\n",
       "      <td>2</td>\n",
       "      <td>Not Tested</td>\n",
       "    </tr>\n",
       "    <tr>\n",
       "      <th>2</th>\n",
       "      <td>Virtus</td>\n",
       "      <td>Volkswagen</td>\n",
       "      <td>Sedan</td>\n",
       "      <td>5</td>\n",
       "      <td>1498.0</td>\n",
       "      <td>4561</td>\n",
       "      <td>1752</td>\n",
       "      <td>1507</td>\n",
       "      <td>2651</td>\n",
       "      <td>4.0</td>\n",
       "      <td>...</td>\n",
       "      <td>Drum</td>\n",
       "      <td>2WD</td>\n",
       "      <td>5.05</td>\n",
       "      <td>45.0</td>\n",
       "      <td>521.0</td>\n",
       "      <td>18.67</td>\n",
       "      <td>BS VI</td>\n",
       "      <td>205/55 R16</td>\n",
       "      <td>1</td>\n",
       "      <td>Not Tested</td>\n",
       "    </tr>\n",
       "    <tr>\n",
       "      <th>3</th>\n",
       "      <td>Taigun</td>\n",
       "      <td>Volkswagen</td>\n",
       "      <td>Mid Size SUV</td>\n",
       "      <td>5</td>\n",
       "      <td>999.0</td>\n",
       "      <td>4221</td>\n",
       "      <td>1760</td>\n",
       "      <td>1612</td>\n",
       "      <td>2651</td>\n",
       "      <td>3.0</td>\n",
       "      <td>...</td>\n",
       "      <td>Drum</td>\n",
       "      <td>2WD</td>\n",
       "      <td>5.05</td>\n",
       "      <td>50.0</td>\n",
       "      <td>385.0</td>\n",
       "      <td>19.20</td>\n",
       "      <td>BS VI</td>\n",
       "      <td>205/55 R17</td>\n",
       "      <td>3</td>\n",
       "      <td>5</td>\n",
       "    </tr>\n",
       "    <tr>\n",
       "      <th>4</th>\n",
       "      <td>Taigun</td>\n",
       "      <td>Volkswagen</td>\n",
       "      <td>Mid Size SUV</td>\n",
       "      <td>5</td>\n",
       "      <td>999.0</td>\n",
       "      <td>4221</td>\n",
       "      <td>1760</td>\n",
       "      <td>1612</td>\n",
       "      <td>2651</td>\n",
       "      <td>3.0</td>\n",
       "      <td>...</td>\n",
       "      <td>Drum</td>\n",
       "      <td>2WD</td>\n",
       "      <td>5.05</td>\n",
       "      <td>50.0</td>\n",
       "      <td>385.0</td>\n",
       "      <td>17.23</td>\n",
       "      <td>BS VI</td>\n",
       "      <td>205/55 R17</td>\n",
       "      <td>2</td>\n",
       "      <td>5</td>\n",
       "    </tr>\n",
       "  </tbody>\n",
       "</table>\n",
       "<p>5 rows × 24 columns</p>\n",
       "</div>"
      ],
      "text/plain": [
       "    Model       Maker          Type  Seats  Displacement  Length  Width  \\\n",
       "0  Virtus  Volkswagen         Sedan      5         999.0    4561   1752   \n",
       "1  Virtus  Volkswagen         Sedan      5         999.0    4561   1752   \n",
       "2  Virtus  Volkswagen         Sedan      5        1498.0    4561   1752   \n",
       "3  Taigun  Volkswagen  Mid Size SUV      5         999.0    4221   1760   \n",
       "4  Taigun  Volkswagen  Mid Size SUV      5         999.0    4221   1760   \n",
       "\n",
       "   Height  Wheelbase  No_of_Cylinders  ... Rear Brake Drive Turning Radius  \\\n",
       "0    1507       2651              3.0  ...       Drum   2WD           5.05   \n",
       "1    1507       2651              3.0  ...       Drum   2WD           5.05   \n",
       "2    1507       2651              4.0  ...       Drum   2WD           5.05   \n",
       "3    1612       2651              3.0  ...       Drum   2WD           5.05   \n",
       "4    1612       2651              3.0  ...       Drum   2WD           5.05   \n",
       "\n",
       "  Fuel Tank Capacity Boot Space Fuel Efficiency  Emission Type   Tyre Size  \\\n",
       "0               45.0      521.0           19.40          BS VI  205/55 R16   \n",
       "1               45.0      521.0           18.12          BS VI  205/55 R16   \n",
       "2               45.0      521.0           18.67          BS VI  205/55 R16   \n",
       "3               50.0      385.0           19.20          BS VI  205/55 R17   \n",
       "4               50.0      385.0           17.23          BS VI  205/55 R17   \n",
       "\n",
       "   Variants  NCAP Rating  \n",
       "0         3   Not Tested  \n",
       "1         2   Not Tested  \n",
       "2         1   Not Tested  \n",
       "3         3            5  \n",
       "4         2            5  \n",
       "\n",
       "[5 rows x 24 columns]"
      ]
     },
     "execution_count": 615,
     "metadata": {},
     "output_type": "execute_result"
    }
   ],
   "source": [
    "df.head()"
   ]
  },
  {
   "cell_type": "code",
   "execution_count": 616,
   "metadata": {},
   "outputs": [
    {
     "name": "stdout",
     "output_type": "stream",
     "text": [
      "<class 'pandas.core.frame.DataFrame'>\n",
      "RangeIndex: 156 entries, 0 to 155\n",
      "Data columns (total 24 columns):\n",
      " #   Column              Non-Null Count  Dtype  \n",
      "---  ------              --------------  -----  \n",
      " 0   Model               156 non-null    object \n",
      " 1   Maker               156 non-null    object \n",
      " 2   Type                156 non-null    object \n",
      " 3   Seats               156 non-null    int64  \n",
      " 4   Displacement        155 non-null    float64\n",
      " 5   Length              156 non-null    int64  \n",
      " 6   Width               156 non-null    int64  \n",
      " 7   Height              156 non-null    int64  \n",
      " 8   Wheelbase           156 non-null    int64  \n",
      " 9   No_of_Cylinders     155 non-null    float64\n",
      " 10  Fuel                156 non-null    object \n",
      " 11  Engine Type         156 non-null    object \n",
      " 12  Transmission        155 non-null    object \n",
      " 13  Front Brake         156 non-null    object \n",
      " 14  Rear Brake          156 non-null    object \n",
      " 15  Drive               156 non-null    object \n",
      " 16  Turning Radius      137 non-null    float64\n",
      " 17  Fuel Tank Capacity  155 non-null    float64\n",
      " 18  Boot Space          141 non-null    float64\n",
      " 19  Fuel Efficiency     133 non-null    float64\n",
      " 20  Emission Type       155 non-null    object \n",
      " 21  Tyre Size           156 non-null    object \n",
      " 22  Variants            156 non-null    int64  \n",
      " 23  NCAP Rating         156 non-null    object \n",
      "dtypes: float64(6), int64(6), object(12)\n",
      "memory usage: 29.4+ KB\n"
     ]
    }
   ],
   "source": [
    "df.info()"
   ]
  },
  {
   "cell_type": "code",
   "execution_count": 617,
   "metadata": {},
   "outputs": [
    {
     "data": {
      "text/html": [
       "<div>\n",
       "<style scoped>\n",
       "    .dataframe tbody tr th:only-of-type {\n",
       "        vertical-align: middle;\n",
       "    }\n",
       "\n",
       "    .dataframe tbody tr th {\n",
       "        vertical-align: top;\n",
       "    }\n",
       "\n",
       "    .dataframe thead th {\n",
       "        text-align: right;\n",
       "    }\n",
       "</style>\n",
       "<table border=\"1\" class=\"dataframe\">\n",
       "  <thead>\n",
       "    <tr style=\"text-align: right;\">\n",
       "      <th></th>\n",
       "      <th>Seats</th>\n",
       "      <th>Displacement</th>\n",
       "      <th>Length</th>\n",
       "      <th>Width</th>\n",
       "      <th>Height</th>\n",
       "      <th>Wheelbase</th>\n",
       "      <th>No_of_Cylinders</th>\n",
       "      <th>Turning Radius</th>\n",
       "      <th>Fuel Tank Capacity</th>\n",
       "      <th>Boot Space</th>\n",
       "      <th>Fuel Efficiency</th>\n",
       "      <th>Variants</th>\n",
       "    </tr>\n",
       "  </thead>\n",
       "  <tbody>\n",
       "    <tr>\n",
       "      <th>count</th>\n",
       "      <td>156.000000</td>\n",
       "      <td>155.000000</td>\n",
       "      <td>156.000000</td>\n",
       "      <td>156.000000</td>\n",
       "      <td>156.000000</td>\n",
       "      <td>156.000000</td>\n",
       "      <td>155.000000</td>\n",
       "      <td>137.000000</td>\n",
       "      <td>155.000000</td>\n",
       "      <td>141.000000</td>\n",
       "      <td>133.000000</td>\n",
       "      <td>156.000000</td>\n",
       "    </tr>\n",
       "    <tr>\n",
       "      <th>mean</th>\n",
       "      <td>5.538462</td>\n",
       "      <td>1598.109677</td>\n",
       "      <td>4324.455128</td>\n",
       "      <td>1800.512821</td>\n",
       "      <td>1653.666667</td>\n",
       "      <td>2633.358974</td>\n",
       "      <td>3.870968</td>\n",
       "      <td>5.247080</td>\n",
       "      <td>48.725806</td>\n",
       "      <td>377.673759</td>\n",
       "      <td>18.028947</td>\n",
       "      <td>2.871795</td>\n",
       "    </tr>\n",
       "    <tr>\n",
       "      <th>std</th>\n",
       "      <td>1.018440</td>\n",
       "      <td>504.656969</td>\n",
       "      <td>325.767389</td>\n",
       "      <td>79.050452</td>\n",
       "      <td>125.170559</td>\n",
       "      <td>128.228372</td>\n",
       "      <td>0.389966</td>\n",
       "      <td>0.284181</td>\n",
       "      <td>10.997815</td>\n",
       "      <td>105.015951</td>\n",
       "      <td>3.273723</td>\n",
       "      <td>2.864055</td>\n",
       "    </tr>\n",
       "    <tr>\n",
       "      <th>min</th>\n",
       "      <td>2.000000</td>\n",
       "      <td>799.000000</td>\n",
       "      <td>3731.000000</td>\n",
       "      <td>1579.000000</td>\n",
       "      <td>1370.000000</td>\n",
       "      <td>2422.000000</td>\n",
       "      <td>3.000000</td>\n",
       "      <td>4.700000</td>\n",
       "      <td>28.000000</td>\n",
       "      <td>180.000000</td>\n",
       "      <td>9.000000</td>\n",
       "      <td>1.000000</td>\n",
       "    </tr>\n",
       "    <tr>\n",
       "      <th>25%</th>\n",
       "      <td>5.000000</td>\n",
       "      <td>1197.000000</td>\n",
       "      <td>3995.000000</td>\n",
       "      <td>1751.500000</td>\n",
       "      <td>1544.000000</td>\n",
       "      <td>2500.000000</td>\n",
       "      <td>4.000000</td>\n",
       "      <td>5.100000</td>\n",
       "      <td>40.000000</td>\n",
       "      <td>296.000000</td>\n",
       "      <td>16.200000</td>\n",
       "      <td>1.000000</td>\n",
       "    </tr>\n",
       "    <tr>\n",
       "      <th>50%</th>\n",
       "      <td>5.000000</td>\n",
       "      <td>1493.000000</td>\n",
       "      <td>4315.000000</td>\n",
       "      <td>1790.000000</td>\n",
       "      <td>1631.000000</td>\n",
       "      <td>2610.000000</td>\n",
       "      <td>4.000000</td>\n",
       "      <td>5.200000</td>\n",
       "      <td>50.000000</td>\n",
       "      <td>392.000000</td>\n",
       "      <td>18.100000</td>\n",
       "      <td>2.000000</td>\n",
       "    </tr>\n",
       "    <tr>\n",
       "      <th>75%</th>\n",
       "      <td>6.000000</td>\n",
       "      <td>1999.000000</td>\n",
       "      <td>4598.000000</td>\n",
       "      <td>1855.000000</td>\n",
       "      <td>1755.000000</td>\n",
       "      <td>2750.000000</td>\n",
       "      <td>4.000000</td>\n",
       "      <td>5.300000</td>\n",
       "      <td>57.000000</td>\n",
       "      <td>447.000000</td>\n",
       "      <td>20.250000</td>\n",
       "      <td>3.000000</td>\n",
       "    </tr>\n",
       "    <tr>\n",
       "      <th>max</th>\n",
       "      <td>9.000000</td>\n",
       "      <td>3799.000000</td>\n",
       "      <td>5115.000000</td>\n",
       "      <td>2099.000000</td>\n",
       "      <td>1995.000000</td>\n",
       "      <td>3060.000000</td>\n",
       "      <td>6.000000</td>\n",
       "      <td>5.900000</td>\n",
       "      <td>80.000000</td>\n",
       "      <td>625.000000</td>\n",
       "      <td>28.000000</td>\n",
       "      <td>20.000000</td>\n",
       "    </tr>\n",
       "  </tbody>\n",
       "</table>\n",
       "</div>"
      ],
      "text/plain": [
       "            Seats  Displacement       Length        Width       Height  \\\n",
       "count  156.000000    155.000000   156.000000   156.000000   156.000000   \n",
       "mean     5.538462   1598.109677  4324.455128  1800.512821  1653.666667   \n",
       "std      1.018440    504.656969   325.767389    79.050452   125.170559   \n",
       "min      2.000000    799.000000  3731.000000  1579.000000  1370.000000   \n",
       "25%      5.000000   1197.000000  3995.000000  1751.500000  1544.000000   \n",
       "50%      5.000000   1493.000000  4315.000000  1790.000000  1631.000000   \n",
       "75%      6.000000   1999.000000  4598.000000  1855.000000  1755.000000   \n",
       "max      9.000000   3799.000000  5115.000000  2099.000000  1995.000000   \n",
       "\n",
       "         Wheelbase  No_of_Cylinders  Turning Radius  Fuel Tank Capacity  \\\n",
       "count   156.000000       155.000000      137.000000          155.000000   \n",
       "mean   2633.358974         3.870968        5.247080           48.725806   \n",
       "std     128.228372         0.389966        0.284181           10.997815   \n",
       "min    2422.000000         3.000000        4.700000           28.000000   \n",
       "25%    2500.000000         4.000000        5.100000           40.000000   \n",
       "50%    2610.000000         4.000000        5.200000           50.000000   \n",
       "75%    2750.000000         4.000000        5.300000           57.000000   \n",
       "max    3060.000000         6.000000        5.900000           80.000000   \n",
       "\n",
       "       Boot Space  Fuel Efficiency    Variants  \n",
       "count  141.000000       133.000000  156.000000  \n",
       "mean   377.673759        18.028947    2.871795  \n",
       "std    105.015951         3.273723    2.864055  \n",
       "min    180.000000         9.000000    1.000000  \n",
       "25%    296.000000        16.200000    1.000000  \n",
       "50%    392.000000        18.100000    2.000000  \n",
       "75%    447.000000        20.250000    3.000000  \n",
       "max    625.000000        28.000000   20.000000  "
      ]
     },
     "execution_count": 617,
     "metadata": {},
     "output_type": "execute_result"
    }
   ],
   "source": [
    "df.describe()"
   ]
  },
  {
   "cell_type": "code",
   "execution_count": 618,
   "metadata": {},
   "outputs": [
    {
     "data": {
      "text/plain": [
       "Model                  0\n",
       "Maker                  0\n",
       "Type                   0\n",
       "Seats                  0\n",
       "Displacement           1\n",
       "Length                 0\n",
       "Width                  0\n",
       "Height                 0\n",
       "Wheelbase              0\n",
       "No_of_Cylinders        1\n",
       "Fuel                   0\n",
       "Engine Type            0\n",
       "Transmission           1\n",
       "Front Brake            0\n",
       "Rear Brake             0\n",
       "Drive                  0\n",
       "Turning Radius        19\n",
       "Fuel Tank Capacity     1\n",
       "Boot Space            15\n",
       "Fuel Efficiency       23\n",
       "Emission Type          1\n",
       "Tyre Size              0\n",
       "Variants               0\n",
       "NCAP Rating            0\n",
       "dtype: int64"
      ]
     },
     "execution_count": 618,
     "metadata": {},
     "output_type": "execute_result"
    }
   ],
   "source": [
    "df.isnull().sum()"
   ]
  },
  {
   "cell_type": "code",
   "execution_count": 619,
   "metadata": {},
   "outputs": [
    {
     "data": {
      "text/plain": [
       "235/60 R18        19\n",
       "215/60 R17        14\n",
       "205/65 R16        12\n",
       "195/55 R16        12\n",
       "255/16 R18        10\n",
       "195/60 R16         9\n",
       "215/55 R18         8\n",
       "175/60 R15         8\n",
       "195/65 R15         8\n",
       "175/65 R15         7\n",
       "215/60 R16         6\n",
       "265/65 R17         4\n",
       "265/60 R18         4\n",
       "255/65 R18         4\n",
       "205/55 R17         4\n",
       "205/55 R16         3\n",
       "155/80 R13         3\n",
       "215/65 R16         3\n",
       "185/55 R16         3\n",
       "235/65 R17         2\n",
       "245/75 R16         2\n",
       "185/65 R15         2\n",
       "185/65 R16         2\n",
       "235/55 R18         2\n",
       "235/70 R16         2\n",
       "285/35/20          1\n",
       "185/55 R16 87H     1\n",
       "215/55 R17         1\n",
       "Name: Tyre Size, dtype: int64"
      ]
     },
     "execution_count": 619,
     "metadata": {},
     "output_type": "execute_result"
    }
   ],
   "source": [
    "df['Tyre Size'].value_counts()"
   ]
  },
  {
   "attachments": {},
   "cell_type": "markdown",
   "metadata": {},
   "source": [
    "- Model: Removido por explicar quase tudo dos dados\n",
    "- Displacement: Removido por não necessariamente trazer pistas sobre a potência do motor - \"Quando os veículos eram mais simples — antes que a hibridação e a indução forçada se tornassem tão populares — o deslocamento lhe dava uma boa ideia de quanta potência um motor fazia em relação a outro. Um aumento no tamanho trouxe um aumento aproximadamente proporcional na produção, mas esse não é necessariamente o caso hoje.\n",
    "Nos carros modernos, a deslocamento do motor é menos uma pista para a saída de um trem de força.\" [What Is Engine Displacement and Does It Matter?](https://www.capitalone.com/cars/learn/finding-the-right-car/what-is-engine-displacement-and-does-it-matter/2055)\n",
    "- No_of_Cylinders, Fuel, Fuel Tank Capacity, Fuel Efficiency, Emission Type, Variants: Removido por não ter necessariamente uma relação com a classificação"
   ]
  },
  {
   "cell_type": "code",
   "execution_count": 620,
   "metadata": {},
   "outputs": [
    {
     "data": {
      "text/plain": [
       "(156, 13)"
      ]
     },
     "execution_count": 620,
     "metadata": {},
     "output_type": "execute_result"
    }
   ],
   "source": [
    "cars_df = df[['Maker', 'Seats', 'Type', 'Length', 'Width', 'Height', 'Wheelbase', 'Transmission', 'Front Brake', 'Rear Brake', 'Drive', 'Tyre Size', 'NCAP Rating']]\n",
    "cars_df.shape"
   ]
  },
  {
   "cell_type": "code",
   "execution_count": 621,
   "metadata": {},
   "outputs": [
    {
     "data": {
      "text/plain": [
       "Maker           0\n",
       "Seats           0\n",
       "Type            0\n",
       "Length          0\n",
       "Width           0\n",
       "Height          0\n",
       "Wheelbase       0\n",
       "Transmission    1\n",
       "Front Brake     0\n",
       "Rear Brake      0\n",
       "Drive           0\n",
       "Tyre Size       0\n",
       "NCAP Rating     0\n",
       "dtype: int64"
      ]
     },
     "execution_count": 621,
     "metadata": {},
     "output_type": "execute_result"
    }
   ],
   "source": [
    "cars_df.isnull().sum()"
   ]
  },
  {
   "cell_type": "code",
   "execution_count": 622,
   "metadata": {},
   "outputs": [
    {
     "name": "stderr",
     "output_type": "stream",
     "text": [
      "/var/folders/k0/sr088lv560v19y4dz_tfgq980000gn/T/ipykernel_47467/3772874607.py:2: SettingWithCopyWarning: \n",
      "A value is trying to be set on a copy of a slice from a DataFrame.\n",
      "Try using .loc[row_indexer,col_indexer] = value instead\n",
      "\n",
      "See the caveats in the documentation: https://pandas.pydata.org/pandas-docs/stable/user_guide/indexing.html#returning-a-view-versus-a-copy\n",
      "  cars_df['Drive'] = cars_df['Drive'].str.replace(\" \",\"\")\n"
     ]
    },
    {
     "data": {
      "text/plain": [
       "array(['2WD', '4WD', 'AWD'], dtype=object)"
      ]
     },
     "execution_count": 622,
     "metadata": {},
     "output_type": "execute_result"
    }
   ],
   "source": [
    "# Removing spaces from the Drive column causing difeerent values for same category\n",
    "cars_df['Drive'] = cars_df['Drive'].str.replace(\" \",\"\")\n",
    "cars_df['Drive'].unique()"
   ]
  },
  {
   "cell_type": "code",
   "execution_count": 623,
   "metadata": {},
   "outputs": [
    {
     "data": {
      "text/plain": [
       "6 MT                   45\n",
       "6 AT                   30\n",
       "5 MT                   25\n",
       "7 DCT                   9\n",
       "8 AT                    6\n",
       "AMT                     6\n",
       "CVT                     6\n",
       "IVT                     4\n",
       "iMT                     3\n",
       "6-Speed MT              3\n",
       "6-Speed AT              2\n",
       "6 TC Automatic          2\n",
       "6 MT with iMT           2\n",
       "7-Speed DSG             2\n",
       "6  iMT                  2\n",
       "6-Speed DCT             1\n",
       "7-Speed CVT             1\n",
       "4 AT                    1\n",
       "MT                      1\n",
       "Single                  1\n",
       "7-Speed DSG 4MOTION     1\n",
       "DCT                     1\n",
       "6 iMT                   1\n",
       "Name: Transmission, dtype: int64"
      ]
     },
     "execution_count": 623,
     "metadata": {},
     "output_type": "execute_result"
    }
   ],
   "source": [
    "cars_df['Transmission'].value_counts()"
   ]
  },
  {
   "cell_type": "code",
   "execution_count": 624,
   "metadata": {},
   "outputs": [
    {
     "data": {
      "text/plain": [
       "(156, 13)"
      ]
     },
     "execution_count": 624,
     "metadata": {},
     "output_type": "execute_result"
    }
   ],
   "source": [
    "cars_df.shape"
   ]
  },
  {
   "cell_type": "code",
   "execution_count": 625,
   "metadata": {},
   "outputs": [
    {
     "data": {
      "text/plain": [
       "(148, 13)"
      ]
     },
     "execution_count": 625,
     "metadata": {},
     "output_type": "execute_result"
    }
   ],
   "source": [
    "# Removing rows with Transmission values that occur only once\n",
    "values = cars_df['Transmission'].value_counts() == 1\n",
    "values = values[values == True]\n",
    "values_list = [x not in values for x in cars_df['Transmission']]\n",
    "cars_df = cars_df[values_list]\n",
    "cars_df.shape"
   ]
  },
  {
   "cell_type": "code",
   "execution_count": 626,
   "metadata": {},
   "outputs": [
    {
     "data": {
      "text/plain": [
       "(145, 13)"
      ]
     },
     "execution_count": 626,
     "metadata": {},
     "output_type": "execute_result"
    }
   ],
   "source": [
    "# Removing rows with Tyre Size values that occur only once\n",
    "values = cars_df['Tyre Size'].value_counts() == 1\n",
    "values = values[values == True]\n",
    "values_list = [x not in values for x in cars_df['Tyre Size']]\n",
    "cars_df = cars_df[values_list]\n",
    "cars_df.shape"
   ]
  },
  {
   "attachments": {},
   "cell_type": "markdown",
   "metadata": {},
   "source": [
    "#### Split Train/Test"
   ]
  },
  {
   "cell_type": "code",
   "execution_count": 627,
   "metadata": {},
   "outputs": [],
   "source": [
    "X_train, X_test = train_test_split(cars_df, test_size=0.2, random_state=42, stratify=cars_df['NCAP Rating'])"
   ]
  },
  {
   "cell_type": "code",
   "execution_count": 628,
   "metadata": {},
   "outputs": [
    {
     "data": {
      "text/plain": [
       "((116, 13), (29, 13))"
      ]
     },
     "execution_count": 628,
     "metadata": {},
     "output_type": "execute_result"
    }
   ],
   "source": [
    "X_train.shape, X_test.shape"
   ]
  },
  {
   "cell_type": "code",
   "execution_count": 629,
   "metadata": {},
   "outputs": [
    {
     "data": {
      "text/plain": [
       "Maker           0\n",
       "Seats           0\n",
       "Type            0\n",
       "Length          0\n",
       "Width           0\n",
       "Height          0\n",
       "Wheelbase       0\n",
       "Transmission    0\n",
       "Front Brake     0\n",
       "Rear Brake      0\n",
       "Drive           0\n",
       "Tyre Size       0\n",
       "NCAP Rating     0\n",
       "dtype: int64"
      ]
     },
     "execution_count": 629,
     "metadata": {},
     "output_type": "execute_result"
    }
   ],
   "source": [
    "X_train.isnull().sum()"
   ]
  },
  {
   "cell_type": "code",
   "execution_count": 630,
   "metadata": {},
   "outputs": [
    {
     "data": {
      "text/plain": [
       "Maker           0\n",
       "Seats           0\n",
       "Type            0\n",
       "Length          0\n",
       "Width           0\n",
       "Height          0\n",
       "Wheelbase       0\n",
       "Transmission    0\n",
       "Front Brake     0\n",
       "Rear Brake      0\n",
       "Drive           0\n",
       "Tyre Size       0\n",
       "NCAP Rating     0\n",
       "dtype: int64"
      ]
     },
     "execution_count": 630,
     "metadata": {},
     "output_type": "execute_result"
    }
   ],
   "source": [
    "X_test.isnull().sum()"
   ]
  },
  {
   "cell_type": "code",
   "execution_count": 631,
   "metadata": {},
   "outputs": [
    {
     "name": "stdout",
     "output_type": "stream",
     "text": [
      "<class 'pandas.core.frame.DataFrame'>\n",
      "Int64Index: 145 entries, 0 to 155\n",
      "Data columns (total 13 columns):\n",
      " #   Column        Non-Null Count  Dtype \n",
      "---  ------        --------------  ----- \n",
      " 0   Maker         145 non-null    object\n",
      " 1   Seats         145 non-null    int64 \n",
      " 2   Type          145 non-null    object\n",
      " 3   Length        145 non-null    int64 \n",
      " 4   Width         145 non-null    int64 \n",
      " 5   Height        145 non-null    int64 \n",
      " 6   Wheelbase     145 non-null    int64 \n",
      " 7   Transmission  145 non-null    object\n",
      " 8   Front Brake   145 non-null    object\n",
      " 9   Rear Brake    145 non-null    object\n",
      " 10  Drive         145 non-null    object\n",
      " 11  Tyre Size     145 non-null    object\n",
      " 12  NCAP Rating   145 non-null    object\n",
      "dtypes: int64(5), object(8)\n",
      "memory usage: 15.9+ KB\n"
     ]
    }
   ],
   "source": [
    "cars_df.info()"
   ]
  },
  {
   "attachments": {},
   "cell_type": "markdown",
   "metadata": {},
   "source": [
    "#### Numerical data into categorical data"
   ]
  },
  {
   "cell_type": "code",
   "execution_count": 632,
   "metadata": {},
   "outputs": [],
   "source": [
    "for col in X_train.columns:\n",
    "  if X_train[col].dtype == 'int64' or X_train[col].dtype == 'float64':\n",
    "    X_train[col], boot_intervals = pd.cut(\n",
    "      X_train[col], \n",
    "      bins=3, \n",
    "      retbins=True, \n",
    "      include_lowest=True\n",
    "    )\n",
    "\n",
    "    X_test[col] = pd.cut(\n",
    "        X_test[col], \n",
    "        bins=pd.IntervalIndex.from_breaks(boot_intervals), \n",
    "        include_lowest=True\n",
    "      )"
   ]
  },
  {
   "cell_type": "code",
   "execution_count": 633,
   "metadata": {},
   "outputs": [
    {
     "data": {
      "text/html": [
       "<div>\n",
       "<style scoped>\n",
       "    .dataframe tbody tr th:only-of-type {\n",
       "        vertical-align: middle;\n",
       "    }\n",
       "\n",
       "    .dataframe tbody tr th {\n",
       "        vertical-align: top;\n",
       "    }\n",
       "\n",
       "    .dataframe thead th {\n",
       "        text-align: right;\n",
       "    }\n",
       "</style>\n",
       "<table border=\"1\" class=\"dataframe\">\n",
       "  <thead>\n",
       "    <tr style=\"text-align: right;\">\n",
       "      <th></th>\n",
       "      <th>Maker</th>\n",
       "      <th>Seats</th>\n",
       "      <th>Type</th>\n",
       "      <th>Length</th>\n",
       "      <th>Width</th>\n",
       "      <th>Height</th>\n",
       "      <th>Wheelbase</th>\n",
       "      <th>Transmission</th>\n",
       "      <th>Front Brake</th>\n",
       "      <th>Rear Brake</th>\n",
       "      <th>Drive</th>\n",
       "      <th>Tyre Size</th>\n",
       "      <th>NCAP Rating</th>\n",
       "    </tr>\n",
       "  </thead>\n",
       "  <tbody>\n",
       "    <tr>\n",
       "      <th>133</th>\n",
       "      <td>Kia</td>\n",
       "      <td>(3.994, 5.667]</td>\n",
       "      <td>SUV</td>\n",
       "      <td>(4192.333, 4653.667]</td>\n",
       "      <td>(1714.333, 1849.667]</td>\n",
       "      <td>(1474.479, 1648.333]</td>\n",
       "      <td>(2421.361, 2634.667]</td>\n",
       "      <td>IVT</td>\n",
       "      <td>Disc</td>\n",
       "      <td>Disc</td>\n",
       "      <td>2WD</td>\n",
       "      <td>215/60 R17</td>\n",
       "      <td>3</td>\n",
       "    </tr>\n",
       "    <tr>\n",
       "      <th>87</th>\n",
       "      <td>Hyundai</td>\n",
       "      <td>(3.994, 5.667]</td>\n",
       "      <td>Hatchback</td>\n",
       "      <td>(3729.615, 4192.333]</td>\n",
       "      <td>(1578.593, 1714.333]</td>\n",
       "      <td>(1474.479, 1648.333]</td>\n",
       "      <td>(2421.361, 2634.667]</td>\n",
       "      <td>5 MT</td>\n",
       "      <td>Disc</td>\n",
       "      <td>Drum</td>\n",
       "      <td>2WD</td>\n",
       "      <td>175/60 R15</td>\n",
       "      <td>2</td>\n",
       "    </tr>\n",
       "    <tr>\n",
       "      <th>102</th>\n",
       "      <td>Hyundai</td>\n",
       "      <td>(3.994, 5.667]</td>\n",
       "      <td>Compact Sedan</td>\n",
       "      <td>(3729.615, 4192.333]</td>\n",
       "      <td>(1578.593, 1714.333]</td>\n",
       "      <td>(1474.479, 1648.333]</td>\n",
       "      <td>(2421.361, 2634.667]</td>\n",
       "      <td>5 MT</td>\n",
       "      <td>Disc</td>\n",
       "      <td>Drum</td>\n",
       "      <td>2WD</td>\n",
       "      <td>175/60 R15</td>\n",
       "      <td>Not Rated</td>\n",
       "    </tr>\n",
       "    <tr>\n",
       "      <th>110</th>\n",
       "      <td>Hyundai</td>\n",
       "      <td>(3.994, 5.667]</td>\n",
       "      <td>Compact SUV</td>\n",
       "      <td>(3729.615, 4192.333]</td>\n",
       "      <td>(1714.333, 1849.667]</td>\n",
       "      <td>(1474.479, 1648.333]</td>\n",
       "      <td>(2421.361, 2634.667]</td>\n",
       "      <td>7 DCT</td>\n",
       "      <td>Disc</td>\n",
       "      <td>Drum</td>\n",
       "      <td>2WD</td>\n",
       "      <td>215/60 R16</td>\n",
       "      <td>4</td>\n",
       "    </tr>\n",
       "    <tr>\n",
       "      <th>122</th>\n",
       "      <td>Hyundai</td>\n",
       "      <td>(5.667, 7.333]</td>\n",
       "      <td>SUV</td>\n",
       "      <td>(4192.333, 4653.667]</td>\n",
       "      <td>(1714.333, 1849.667]</td>\n",
       "      <td>(1648.333, 1821.667]</td>\n",
       "      <td>(2634.667, 2847.333]</td>\n",
       "      <td>6 MT</td>\n",
       "      <td>Disc</td>\n",
       "      <td>Disc</td>\n",
       "      <td>2WD</td>\n",
       "      <td>215/55 R18</td>\n",
       "      <td>Not Rated</td>\n",
       "    </tr>\n",
       "  </tbody>\n",
       "</table>\n",
       "</div>"
      ],
      "text/plain": [
       "       Maker           Seats           Type                Length  \\\n",
       "133      Kia  (3.994, 5.667]            SUV  (4192.333, 4653.667]   \n",
       "87   Hyundai  (3.994, 5.667]      Hatchback  (3729.615, 4192.333]   \n",
       "102  Hyundai  (3.994, 5.667]  Compact Sedan  (3729.615, 4192.333]   \n",
       "110  Hyundai  (3.994, 5.667]    Compact SUV  (3729.615, 4192.333]   \n",
       "122  Hyundai  (5.667, 7.333]            SUV  (4192.333, 4653.667]   \n",
       "\n",
       "                    Width                Height             Wheelbase  \\\n",
       "133  (1714.333, 1849.667]  (1474.479, 1648.333]  (2421.361, 2634.667]   \n",
       "87   (1578.593, 1714.333]  (1474.479, 1648.333]  (2421.361, 2634.667]   \n",
       "102  (1578.593, 1714.333]  (1474.479, 1648.333]  (2421.361, 2634.667]   \n",
       "110  (1714.333, 1849.667]  (1474.479, 1648.333]  (2421.361, 2634.667]   \n",
       "122  (1714.333, 1849.667]  (1648.333, 1821.667]  (2634.667, 2847.333]   \n",
       "\n",
       "    Transmission Front Brake Rear Brake Drive   Tyre Size NCAP Rating  \n",
       "133          IVT        Disc       Disc   2WD  215/60 R17           3  \n",
       "87          5 MT        Disc       Drum   2WD  175/60 R15           2  \n",
       "102         5 MT        Disc       Drum   2WD  175/60 R15   Not Rated  \n",
       "110        7 DCT        Disc       Drum   2WD  215/60 R16           4  \n",
       "122         6 MT        Disc       Disc   2WD  215/55 R18   Not Rated  "
      ]
     },
     "execution_count": 633,
     "metadata": {},
     "output_type": "execute_result"
    }
   ],
   "source": [
    "X_train.head()"
   ]
  },
  {
   "cell_type": "code",
   "execution_count": 634,
   "metadata": {},
   "outputs": [
    {
     "data": {
      "text/html": [
       "<div>\n",
       "<style scoped>\n",
       "    .dataframe tbody tr th:only-of-type {\n",
       "        vertical-align: middle;\n",
       "    }\n",
       "\n",
       "    .dataframe tbody tr th {\n",
       "        vertical-align: top;\n",
       "    }\n",
       "\n",
       "    .dataframe thead th {\n",
       "        text-align: right;\n",
       "    }\n",
       "</style>\n",
       "<table border=\"1\" class=\"dataframe\">\n",
       "  <thead>\n",
       "    <tr style=\"text-align: right;\">\n",
       "      <th></th>\n",
       "      <th>Maker</th>\n",
       "      <th>Seats</th>\n",
       "      <th>Type</th>\n",
       "      <th>Length</th>\n",
       "      <th>Width</th>\n",
       "      <th>Height</th>\n",
       "      <th>Wheelbase</th>\n",
       "      <th>Transmission</th>\n",
       "      <th>Front Brake</th>\n",
       "      <th>Rear Brake</th>\n",
       "      <th>Drive</th>\n",
       "      <th>Tyre Size</th>\n",
       "      <th>NCAP Rating</th>\n",
       "    </tr>\n",
       "  </thead>\n",
       "  <tbody>\n",
       "    <tr>\n",
       "      <th>46</th>\n",
       "      <td>Mahindra</td>\n",
       "      <td>(5.666666666666667, 7.333333333333334]</td>\n",
       "      <td>SUV</td>\n",
       "      <td>(4653.666666666667, 5115.0]</td>\n",
       "      <td>(1849.6666666666667, 1985.0]</td>\n",
       "      <td>(1821.6666666666667, 1995.0]</td>\n",
       "      <td>(2634.6666666666665, 2847.3333333333335]</td>\n",
       "      <td>6 MT</td>\n",
       "      <td>Disc</td>\n",
       "      <td>Disc</td>\n",
       "      <td>2WD</td>\n",
       "      <td>255/16 R18</td>\n",
       "      <td>Not Rated</td>\n",
       "    </tr>\n",
       "    <tr>\n",
       "      <th>60</th>\n",
       "      <td>Mahindra</td>\n",
       "      <td>(5.666666666666667, 7.333333333333334]</td>\n",
       "      <td>SUV</td>\n",
       "      <td>(4653.666666666667, 5115.0]</td>\n",
       "      <td>(1849.6666666666667, 1985.0]</td>\n",
       "      <td>(1648.3333333333333, 1821.6666666666667]</td>\n",
       "      <td>(2634.6666666666665, 2847.3333333333335]</td>\n",
       "      <td>6 AT</td>\n",
       "      <td>Disc</td>\n",
       "      <td>Disc</td>\n",
       "      <td>2WD</td>\n",
       "      <td>235/60 R18</td>\n",
       "      <td>5</td>\n",
       "    </tr>\n",
       "    <tr>\n",
       "      <th>18</th>\n",
       "      <td>Honda</td>\n",
       "      <td>(3.995, 5.666666666666667]</td>\n",
       "      <td>Compact SUV</td>\n",
       "      <td>(3729.616, 4192.333333333333]</td>\n",
       "      <td>(1714.3333333333333, 1849.6666666666667]</td>\n",
       "      <td>(1474.48, 1648.3333333333333]</td>\n",
       "      <td>(2421.362, 2634.6666666666665]</td>\n",
       "      <td>6 MT</td>\n",
       "      <td>Disc</td>\n",
       "      <td>Drum</td>\n",
       "      <td>2WD</td>\n",
       "      <td>195/60 R16</td>\n",
       "      <td>4</td>\n",
       "    </tr>\n",
       "    <tr>\n",
       "      <th>76</th>\n",
       "      <td>Toyota</td>\n",
       "      <td>(5.666666666666667, 7.333333333333334]</td>\n",
       "      <td>SUV</td>\n",
       "      <td>(4653.666666666667, 5115.0]</td>\n",
       "      <td>(1849.6666666666667, 1985.0]</td>\n",
       "      <td>(1821.6666666666667, 1995.0]</td>\n",
       "      <td>(2634.6666666666665, 2847.3333333333335]</td>\n",
       "      <td>6 MT with iMT</td>\n",
       "      <td>Disc</td>\n",
       "      <td>Disc</td>\n",
       "      <td>4WD</td>\n",
       "      <td>265/60 R18</td>\n",
       "      <td>5</td>\n",
       "    </tr>\n",
       "    <tr>\n",
       "      <th>135</th>\n",
       "      <td>Kia</td>\n",
       "      <td>(3.995, 5.666666666666667]</td>\n",
       "      <td>SUV</td>\n",
       "      <td>(4192.333333333333, 4653.666666666667]</td>\n",
       "      <td>(1714.3333333333333, 1849.6666666666667]</td>\n",
       "      <td>(1474.48, 1648.3333333333333]</td>\n",
       "      <td>(2421.362, 2634.6666666666665]</td>\n",
       "      <td>7 DCT</td>\n",
       "      <td>Disc</td>\n",
       "      <td>Disc</td>\n",
       "      <td>2WD</td>\n",
       "      <td>215/60 R17</td>\n",
       "      <td>3</td>\n",
       "    </tr>\n",
       "  </tbody>\n",
       "</table>\n",
       "</div>"
      ],
      "text/plain": [
       "        Maker                                   Seats         Type  \\\n",
       "46   Mahindra  (5.666666666666667, 7.333333333333334]          SUV   \n",
       "60   Mahindra  (5.666666666666667, 7.333333333333334]          SUV   \n",
       "18      Honda              (3.995, 5.666666666666667]  Compact SUV   \n",
       "76     Toyota  (5.666666666666667, 7.333333333333334]          SUV   \n",
       "135       Kia              (3.995, 5.666666666666667]          SUV   \n",
       "\n",
       "                                     Length  \\\n",
       "46              (4653.666666666667, 5115.0]   \n",
       "60              (4653.666666666667, 5115.0]   \n",
       "18            (3729.616, 4192.333333333333]   \n",
       "76              (4653.666666666667, 5115.0]   \n",
       "135  (4192.333333333333, 4653.666666666667]   \n",
       "\n",
       "                                        Width  \\\n",
       "46               (1849.6666666666667, 1985.0]   \n",
       "60               (1849.6666666666667, 1985.0]   \n",
       "18   (1714.3333333333333, 1849.6666666666667]   \n",
       "76               (1849.6666666666667, 1985.0]   \n",
       "135  (1714.3333333333333, 1849.6666666666667]   \n",
       "\n",
       "                                       Height  \\\n",
       "46               (1821.6666666666667, 1995.0]   \n",
       "60   (1648.3333333333333, 1821.6666666666667]   \n",
       "18              (1474.48, 1648.3333333333333]   \n",
       "76               (1821.6666666666667, 1995.0]   \n",
       "135             (1474.48, 1648.3333333333333]   \n",
       "\n",
       "                                    Wheelbase   Transmission Front Brake  \\\n",
       "46   (2634.6666666666665, 2847.3333333333335]           6 MT        Disc   \n",
       "60   (2634.6666666666665, 2847.3333333333335]           6 AT        Disc   \n",
       "18             (2421.362, 2634.6666666666665]           6 MT        Disc   \n",
       "76   (2634.6666666666665, 2847.3333333333335]  6 MT with iMT        Disc   \n",
       "135            (2421.362, 2634.6666666666665]          7 DCT        Disc   \n",
       "\n",
       "    Rear Brake Drive   Tyre Size NCAP Rating  \n",
       "46        Disc   2WD  255/16 R18   Not Rated  \n",
       "60        Disc   2WD  235/60 R18           5  \n",
       "18        Drum   2WD  195/60 R16           4  \n",
       "76        Disc   4WD  265/60 R18           5  \n",
       "135       Disc   2WD  215/60 R17           3  "
      ]
     },
     "execution_count": 634,
     "metadata": {},
     "output_type": "execute_result"
    }
   ],
   "source": [
    "X_test.head()"
   ]
  },
  {
   "attachments": {},
   "cell_type": "markdown",
   "metadata": {},
   "source": [
    "#### Using Decision Tree"
   ]
  },
  {
   "cell_type": "code",
   "execution_count": 635,
   "metadata": {},
   "outputs": [],
   "source": [
    "tree = decision_tree(X_train, 'NCAP Rating')"
   ]
  },
  {
   "cell_type": "code",
   "execution_count": 636,
   "metadata": {},
   "outputs": [],
   "source": [
    "tree.fit()"
   ]
  },
  {
   "cell_type": "code",
   "execution_count": 637,
   "metadata": {},
   "outputs": [],
   "source": [
    "y_test = tree.predict(X_test)"
   ]
  },
  {
   "cell_type": "code",
   "execution_count": 638,
   "metadata": {},
   "outputs": [
    {
     "data": {
      "text/plain": [
       "0.9655172413793104"
      ]
     },
     "execution_count": 638,
     "metadata": {},
     "output_type": "execute_result"
    }
   ],
   "source": [
    "accuracy_score(X_test['NCAP Rating'], y_test)"
   ]
  }
 ],
 "metadata": {
  "kernelspec": {
   "display_name": "base",
   "language": "python",
   "name": "python3"
  },
  "language_info": {
   "codemirror_mode": {
    "name": "ipython",
    "version": 3
   },
   "file_extension": ".py",
   "mimetype": "text/x-python",
   "name": "python",
   "nbconvert_exporter": "python",
   "pygments_lexer": "ipython3",
   "version": "3.9.12"
  },
  "orig_nbformat": 4
 },
 "nbformat": 4,
 "nbformat_minor": 2
}
